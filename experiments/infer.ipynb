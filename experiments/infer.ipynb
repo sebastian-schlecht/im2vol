{
 "cells": [
  {
   "cell_type": "code",
   "execution_count": null,
   "metadata": {
    "collapsed": false
   },
   "outputs": [],
   "source": [
    "import theano\n",
    "import theano.tensor as T\n",
    "import lasagne\n",
    "import h5py\n",
    "import numpy as np\n",
    "import sys\n",
    "\n",
    "sys.path.append(\"..\")\n",
    "from networks import  residual_unet, residual_unet_old, debug_net"
   ]
  },
  {
   "cell_type": "code",
   "execution_count": null,
   "metadata": {
    "collapsed": false
   },
   "outputs": [],
   "source": [
    "# DATASET = '/home/sebastianschlecht/depth_data/nyu_v1_shuffled'\n",
    "DATASET = '/home/sebastianschlecht/depth_data/nyu_depth_v2_resized'\n",
    "model = '../data/resunet_epoch_20.npz'\n",
    "f = h5py.File(DATASET + \".hdf5\")\n",
    "length = f[\"images\"].shape[0]\n",
    "images = np.array(f[\"images\"][0:100]).astype(np.float32)\n",
    "images_orig = images.copy()\n",
    "depths = np.array(f[\"depths\"][0:100]).astype(np.float32)\n",
    "m = np.load(DATASET + \".npy\").astype(np.float32)\n",
    "for i in range(images.shape[0]):\n",
    "    images[i] = (images[i] - m) / 70.\n",
    "    \n",
    "\n",
    "input_var = T.tensor4('inputs')\n",
    "network = residual_unet_old(input_var=input_var)\n",
    "# Downsample factor\n",
    "ds = 2\n",
    "prediction = lasagne.layers.get_output(network, deterministic=True)\n",
    "\n",
    "if model is not None:\n",
    "    print \"Loading model weights %s\" % model\n",
    "    with np.load(model) as f:\n",
    "        param_values = [f['arr_%d' % i] for i in range(len(f.files))]\n",
    "    lasagne.layers.set_all_param_values(network, param_values)\n",
    "fn = theano.function([input_var], prediction)"
   ]
  },
  {
   "cell_type": "code",
   "execution_count": null,
   "metadata": {
    "collapsed": false
   },
   "outputs": [],
   "source": [
    "%matplotlib inline\n",
    "import matplotlib.pyplot as plt\n",
    "mm = []\n",
    "ds = 2\n",
    "for idx in range(16,32):\n",
    "    sample = images[idx,:,9:9+240, 12:12+320].astype(np.float32)\n",
    "    r = fn(sample.reshape((-1,3,240,320)))\n",
    "    #r = np.exp(r)\n",
    "    if idx % 1 == 0:\n",
    "        plt.imshow(images_orig[idx].astype(np.uint8).transpose((1,2,0)))\n",
    "        plt.show()\n",
    "        plt.imshow(depths[idx,::ds,::ds])\n",
    "        plt.show()\n",
    "        plt.imshow(r[0].squeeze())\n",
    "        plt.show()\n",
    "    m = ((depths[idx,9:9+240:ds, 12:12+320:ds]) - (r.squeeze())) ** 2\n",
    "    mm.append(m)\n",
    "print np.array(mm).mean()\n"
   ]
  },
  {
   "cell_type": "code",
   "execution_count": 4,
   "metadata": {
    "collapsed": true
   },
   "outputs": [],
   "source": [
    "import numpy\n",
    "def smooth(x,window_len=11,window='hanning'):\n",
    "    \"\"\"smooth the data using a window with requested size.\n",
    "    \n",
    "    This method is based on the convolution of a scaled window with the signal.\n",
    "    The signal is prepared by introducing reflected copies of the signal \n",
    "    (with the window size) in both ends so that transient parts are minimized\n",
    "    in the begining and end part of the output signal.\n",
    "    \n",
    "    input:\n",
    "        x: the input signal \n",
    "        window_len: the dimension of the smoothing window; should be an odd integer\n",
    "        window: the type of window from 'flat', 'hanning', 'hamming', 'bartlett', 'blackman'\n",
    "            flat window will produce a moving average smoothing.\n",
    "\n",
    "    output:\n",
    "        the smoothed signal\n",
    "        \n",
    "    example:\n",
    "\n",
    "    t=linspace(-2,2,0.1)\n",
    "    x=sin(t)+randn(len(t))*0.1\n",
    "    y=smooth(x)\n",
    "    \n",
    "    see also: \n",
    "    \n",
    "    numpy.hanning, numpy.hamming, numpy.bartlett, numpy.blackman, numpy.convolve\n",
    "    scipy.signal.lfilter\n",
    " \n",
    "    TODO: the window parameter could be the window itself if an array instead of a string\n",
    "    NOTE: length(output) != length(input), to correct this: return y[(window_len/2-1):-(window_len/2)] instead of just y.\n",
    "    \"\"\" \n",
    "     \n",
    "    if x.ndim != 1:\n",
    "        raise ValueError, \"smooth only accepts 1 dimension arrays.\"\n",
    "\n",
    "    if x.size < window_len:\n",
    "        raise ValueError, \"Input vector needs to be bigger than window size.\"\n",
    "        \n",
    "\n",
    "    if window_len<3:\n",
    "        return x\n",
    "    \n",
    "    \n",
    "    if not window in ['flat', 'hanning', 'hamming', 'bartlett', 'blackman']:\n",
    "        raise ValueError, \"Window is one of 'flat', 'hanning', 'hamming', 'bartlett', 'blackman'\"\n",
    "    \n",
    "\n",
    "    s=numpy.r_[x[window_len-1:0:-1],x,x[-1:-window_len:-1]]\n",
    "    #print(len(s))\n",
    "    if window == 'flat': #moving average\n",
    "        w=numpy.ones(window_len,'d')\n",
    "    else:\n",
    "        w=eval('numpy.'+window+'(window_len)')\n",
    "    \n",
    "    y=numpy.convolve(w/w.sum(),s,mode='valid')\n",
    "    return y    "
   ]
  },
  {
   "cell_type": "code",
   "execution_count": 119,
   "metadata": {
    "collapsed": false
   },
   "outputs": [
    {
     "name": "stdout",
     "output_type": "stream",
     "text": [
      "0.582411392292\n"
     ]
    },
    {
     "data": {
      "image/png": "[encoded data removed]",
      "text/plain": [
       "<matplotlib.figure.Figure at 0x7f0cf0525e50>"
      ]
     },
     "metadata": {},
     "output_type": "display_data"
    }
   ],
   "source": [
    "import numpy as np\n",
    "%matplotlib inline\n",
    "import matplotlib.pyplot as plt\n",
    "\n",
    "d = np.load(\"../data/resunet_epoch_20_loss_train.npy\")\n",
    "print d[-5]\n",
    "plt.plot(smooth(d, window_len=1000))\n",
    "plt.show()\n",
    "\n"
   ]
  },
  {
   "cell_type": "code",
   "execution_count": null,
   "metadata": {
    "collapsed": false
   },
   "outputs": [],
   "source": [
    "import sys\n",
    "import numpy as np\n",
    "%matplotlib inline\n",
    "import matplotlib.pyplot as plt\n",
    "sys.path.append(\"..\")\n",
    "from main import start_prefetching_thread, iterate_minibatches_synchronized\n",
    "\n",
    "start_prefetching_thread((16, True))\n",
    "for e in range(10):\n",
    "    for batch in iterate_minibatches_synchronized(16,16,augment=True):\n",
    "        inp,t = batch\n",
    "        for idx in range(10,11):\n",
    "            print inp[idx].mean()\n",
    "            print t.mean()\n",
    "            plt.imshow((inp[idx] * 70.).astype(np.uint8).transpose((1,2,0)))\n",
    "            plt.show()\n",
    "            plt.imshow(t[idx])\n",
    "            plt.show()\n",
    "            print idx"
   ]
  },
  {
   "cell_type": "code",
   "execution_count": null,
   "metadata": {
    "collapsed": true
   },
   "outputs": [],
   "source": []
  }
 ],
 "metadata": {
  "kernelspec": {
   "display_name": "Python 2",
   "language": "python",
   "name": "python2"
  },
  "language_info": {
   "codemirror_mode": {
    "name": "ipython",
    "version": 2
   },
   "file_extension": ".py",
   "mimetype": "text/x-python",
   "name": "python",
   "nbconvert_exporter": "python",
   "pygments_lexer": "ipython2",
   "version": "2.7.11"
  }
 },
 "nbformat": 4,
 "nbformat_minor": 0
}
